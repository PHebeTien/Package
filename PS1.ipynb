{
 "cells": [
  {
   "cell_type": "markdown",
   "metadata": {},
   "source": [
    "# Homework Assignment 1: Basic Python\n",
    "\n",
    "In this homework, we will review basic properties of python, specifically loops, conditionals, functions, and basic data structures.\n",
    "\n",
    "Homework Guidelines:\n",
    "\n",
    "1) Document your code! Only part of your score on the homework will be if you get the \"right\" answer. In order for us to understand what you've written, you need to have clearly written code. Documenting your code with comments (# sign) and spacing out your code (but not too much) makes it easier to read. You should also make use of the markdown feature of ipython notebooks for longer explanations or to imbed pictures/formulas. \n",
    "\n",
    "2) You may google around for tools for solving the homework problems (StackExchange will often pop up!) but DO NOT google the exact problem statement or copy blocks of code from elsewhere.\n",
    "\n",
    "3) You can work in small groups to complete assignments and share code within the small group. Please specify who you worked with if your submitted solutions are similar/identical.\n",
    "\n",
    "4) Various python packages have built in routines for common programming tasks. If you want to use an external (i.e. import X) package which isn't imported in the problem statement please ask the instructor first.\n",
    "\n",
    "5) Some problem statements might be vague or unspecific (like \"Explore the relationship between X and Y\"), just like real research questions! When in doubt it would be useful to provide plots and your observations."
   ]
  },
  {
   "cell_type": "markdown",
   "metadata": {},
   "source": [
    "# Problem 0: Precourse Survey (0 points)\n",
    "\n",
    "If you have not already done so, please complete the pre-course survey availabe here:\n",
    "    https://forms.gle/n7FEdGT8tW9JNhog6"
   ]
  },
  {
   "cell_type": "markdown",
   "metadata": {},
   "source": [
    "# Problem 1: Using git (5 points)\n",
    "\n",
    "Over the course of this homework assignment, make at least 4 commits with informative commit messages. Remember that we can see the messages!"
   ]
  },
  {
   "cell_type": "markdown",
   "metadata": {},
   "source": [
    "# Problem 2: Largest Prime Factor (15 points)\n",
    "\n",
    "The prime factors of a number are the list of prime numbers who's product is equal to that number. I.e. 728 -> 2 2 2 7 13.\n",
    "\n",
    "a) Write a function which lists the prime factors of a number.\n",
    "\n",
    "b) What is the largest prime factor of 10,030,508,582,493?"
   ]
  },
  {
   "cell_type": "code",
   "execution_count": 1,
   "metadata": {},
   "outputs": [],
   "source": [
    "def PrimeFactor(n):\n",
    "    List=[]\n",
    "    num=n\n",
    "    i=2\n",
    "    while(i<=num):\n",
    "        if(n%i==0):\n",
    "            List.append(i)\n",
    "            n=n/i\n",
    "            i=1\n",
    "        if(n==1):\n",
    "            break\n",
    "        i=i+1\n",
    "    return List"
   ]
  },
  {
   "cell_type": "code",
   "execution_count": 3,
   "metadata": {},
   "outputs": [
    {
     "name": "stdout",
     "output_type": "stream",
     "text": [
      "Please input an number:3\n",
      "First Step:Write a function which lists the prime factors of a number. \n",
      "a= 3\n",
      "Second Step:Find the biggest one.\n",
      "The biggest factor is: 3\n"
     ]
    }
   ],
   "source": [
    "## solution: 3*7*7789*7789*7873\n",
    "a=int(input(\"Please input an number:\"))\n",
    "list=PrimeFactor(a)\n",
    "print(\"First Step:Write a function which lists the prime factors of a number. \")\n",
    "if(a==1):\n",
    "    print(\"1 do not has prime factor\")\n",
    "elif len(list):\n",
    "    print(\"a=\",end=\" \")\n",
    "    for i in range(len(list)-1):\n",
    "        print(list[i],\"*\",end=\" \")\n",
    "    print(list[-1])\n",
    "else:\n",
    "    print(\"This number is a Prime number\")\n",
    "print(\"Second Step:Find the biggest one.\")\n",
    "print(\"The biggest factor is:\",max(list))"
   ]
  },
  {
   "cell_type": "markdown",
   "metadata": {},
   "source": [
    "# Problem 3: Division of Factorial Recursive Calculator (15 points)\n",
    "\n",
    "A common mathematical calculation that emerges in the field of combinatorics is the ratio of a two factorials, i.e.\n",
    "$$ \\frac{a!}{b!} = \\frac{a!}{(a-n)!}$$.\n",
    "\n",
    "a) Write a recursive program which will calculate this ratio for a given positive integer $a$ and $n$ (where $n<a$). Remember that a recursive function must call itself if a condition isn't met.\n",
    "\n",
    "b) What is the value for $a=10000$ and $n=13$?\n",
    "\n",
    "c) What is the value for $a=89$ and $n=40$?"
   ]
  },
  {
   "cell_type": "code",
   "execution_count": 12,
   "metadata": {},
   "outputs": [],
   "source": [
    "def Rec(a,n):\n",
    "    if(a>n):\n",
    "        return a*Rec(a-1,n)\n",
    "    else:\n",
    "        return 1"
   ]
  },
  {
   "cell_type": "code",
   "execution_count": 13,
   "metadata": {},
   "outputs": [
    {
     "name": "stdout",
     "output_type": "stream",
     "text": [
      "Please input 2 number:\n",
      "The first is:10000\n",
      "The second is:13\n",
      "The result is: 9922271143048770786296305556545382530912502016000000\n"
     ]
    }
   ],
   "source": [
    "a=int(input(\"Please input 2 number:\\nThe first is:\"))\n",
    "n=int(input(\"The second is:\"))\n",
    "print(\"The result is:\",end=\" \")\n",
    "print(Rec(a,a-n))"
   ]
  },
  {
   "cell_type": "markdown",
   "metadata": {},
   "source": [
    "# Problem 4: Largest Palindrome (15 points)\n",
    "\n",
    "\n",
    "A palindrome remains identical when its characters are reversed order. For example, 101 is a palindrome, as is 9339, and 1029201, and 165090561. All of these numbers, when read in reversed order, remain unchanged. In this problem, we will search for the largest palindrome that is also a product of two numbers. For example, the largest palindrome made from the product of two 2-digit numbers is 9009 = 91 × 99.\n",
    "\n",
    "a) What is the largest palidrome that comes from the product of three 2-digit numbers?\n",
    "\n",
    "b) What is the largest palidrome that comes from the product of two 3-digit numbers?"
   ]
  },
  {
   "cell_type": "code",
   "execution_count": 5,
   "metadata": {},
   "outputs": [],
   "source": [
    "def judge_Palindrome(n):\n",
    "    length=len(str(n))\n",
    "    s = str(n)\n",
    "    flag = True\n",
    "    for i in range(length//2):\n",
    "        if s[i] != s[-i-1]:\n",
    "            flag = False\n",
    "            break\n",
    "    if flag == True:\n",
    "        return 1\n",
    "    else:\n",
    "        return 0"
   ]
  },
  {
   "cell_type": "code",
   "execution_count": 7,
   "metadata": {},
   "outputs": [
    {
     "name": "stdout",
     "output_type": "stream",
     "text": [
      "99 98 26\n",
      "The largest palidrome that comes from the product of three 2-digit numbers is: 252252\n"
     ]
    }
   ],
   "source": [
    "# To solve the first quiz\n",
    "Flag=True\n",
    "for i in range(99,0,-1):\n",
    "    for j in range(99,0,-1):\n",
    "        for k in range(99,0,-1):\n",
    "            if(judge_Palindrome(i*j*k)==1):\n",
    "                print(i,j,k)\n",
    "                print(\"The largest palidrome that comes from the product of three 2-digit numbers is:\",i*j*k)\n",
    "                Flag=False\n",
    "            if(Flag==False):\n",
    "                break\n",
    "        if(Flag==False):\n",
    "            break\n",
    "    if(Flag==False):\n",
    "        break"
   ]
  },
  {
   "cell_type": "code",
   "execution_count": 10,
   "metadata": {},
   "outputs": [
    {
     "name": "stdout",
     "output_type": "stream",
     "text": [
      "995 583\n",
      "The largest palidrome that comes from the product of three 2-digit numbers is: 580085\n"
     ]
    }
   ],
   "source": [
    "# To solve the second quiz\n",
    "Flag=True\n",
    "for i in range(999,99,-1):\n",
    "    for j in range(999,99,-1):\n",
    "        if(judge_Palindrome(i*j)==1):\n",
    "            print(i,j)\n",
    "            print(\"The largest palidrome that comes from the product of three 2-digit numbers is:\",i*j)\n",
    "            Flag=False\n",
    "        if(Flag==False):\n",
    "                break\n",
    "    if(Flag==False):\n",
    "            break"
   ]
  }
 ],
 "metadata": {
  "kernelspec": {
   "display_name": "Python 3",
   "language": "python",
   "name": "python3"
  },
  "language_info": {
   "codemirror_mode": {
    "name": "ipython",
    "version": 3
   },
   "file_extension": ".py",
   "mimetype": "text/x-python",
   "name": "python",
   "nbconvert_exporter": "python",
   "pygments_lexer": "ipython3",
   "version": "3.7.3"
  }
 },
 "nbformat": 4,
 "nbformat_minor": 2
}
